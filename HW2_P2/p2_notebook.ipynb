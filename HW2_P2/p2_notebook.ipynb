{
 "cells": [
  {
   "cell_type": "markdown",
   "metadata": {},
   "source": [
    "# Introduction\n",
    "In this project, we do corner detection and feature matching. We implement [Harris algorithm](http://www.bmva.org/bmvc/1988/avc-88-023.pdf) to do corner detection, and as described in the paper, we use a 2-d Gaussian as a smooth circular window at the second step.  \n",
    "Then we will implement feature matching based on SSD (sum of squared distnces) and Mutual Marriages.\n",
    "> Mutual Marraiges: Suppose image ​I1​ yields corners ​d = {(x​1​,y​1)​ , ..., (xn​ ​,y​n​)}​ and image ​I​2​ yields corners ​s = {(x1​ ​,y1​ )​ , ..., (x​m,​ y​m)​ }​. When looking at corner ​d​i​ = (x​i,​ y​i​)​, we look at all of the corners in ​s​ and take the corner with the best SSD match score. Then, we do the same for all features in ​s​ to find the best matches in ​d​. To retrieve ​good​ matches, they must agree, such that if ​di​ ​ finds ​sj​ ​ as its best match, then when searching for matches in ​s​ then ​s​j better also choose ​d​i​ as its best match or this wasn’t a good match. In this way, they agree on each other and we can reduce ambiguous matches and arbitrary distance thresholding.\n",
    "\n",
    "*Notes about the reference functions and our results: they are just for reference and your results do NOT have to be exactly the same; but when there are some discrepencies, you may want to double check the correctness of your code, make sure your code is doing the right thing while the discrepencies are caused by some trivial details of the implementation, and try to find alternative reference functions to compare with (e.g. cv2.getGaussianKernel for Q2)*"
   ]
  },
  {
   "cell_type": "code",
   "execution_count": 1,
   "metadata": {},
   "outputs": [],
   "source": [
    "# include necessary packages\n",
    "from __future__ import print_function\n",
    "import cv2\n",
    "import numpy as np\n",
    "import math\n",
    "from scipy.ndimage import filters\n",
    "from scipy import signal\n",
    "%matplotlib inline\n",
    "from matplotlib import pyplot as plt\n",
    "from non_max_suppression import non_max_suppression"
   ]
  },
  {
   "cell_type": "code",
   "execution_count": 2,
   "metadata": {},
   "outputs": [
    {
     "ename": "ImportError",
     "evalue": "No module named 'non_max_supression'",
     "output_type": "error",
     "traceback": [
      "\u001b[0;31m---------------------------------------------------------------------------\u001b[0m",
      "\u001b[0;31mImportError\u001b[0m                               Traceback (most recent call last)",
      "\u001b[0;32m<ipython-input-2-9ab716b2f0fc>\u001b[0m in \u001b[0;36m<module>\u001b[0;34m()\u001b[0m\n\u001b[1;32m      1\u001b[0m \u001b[0;31m# load your solutions\u001b[0m\u001b[0;34m\u001b[0m\u001b[0;34m\u001b[0m\u001b[0m\n\u001b[0;32m----> 2\u001b[0;31m \u001b[0;32mfrom\u001b[0m \u001b[0mp2\u001b[0m \u001b[0;32mimport\u001b[0m \u001b[0;34m*\u001b[0m\u001b[0;34m\u001b[0m\u001b[0m\n\u001b[0m",
      "\u001b[0;32m~/Fall2018/CV/HW2/HW2_P2/p2.py\u001b[0m in \u001b[0;36m<module>\u001b[0;34m()\u001b[0m\n\u001b[1;32m      1\u001b[0m \u001b[0;32mimport\u001b[0m \u001b[0mnumpy\u001b[0m \u001b[0;32mas\u001b[0m \u001b[0mnp\u001b[0m\u001b[0;34m\u001b[0m\u001b[0m\n\u001b[1;32m      2\u001b[0m \u001b[0;32mfrom\u001b[0m \u001b[0mmath\u001b[0m \u001b[0;32mimport\u001b[0m \u001b[0mpi\u001b[0m\u001b[0;34m,\u001b[0m \u001b[0mexp\u001b[0m\u001b[0;34m,\u001b[0m \u001b[0msqrt\u001b[0m\u001b[0;34m\u001b[0m\u001b[0m\n\u001b[0;32m----> 3\u001b[0;31m \u001b[0;32mfrom\u001b[0m \u001b[0mnon_max_supression\u001b[0m \u001b[0;32mimport\u001b[0m \u001b[0mnon_max_supression\u001b[0m\u001b[0;34m\u001b[0m\u001b[0m\n\u001b[0m\u001b[1;32m      4\u001b[0m \u001b[0;34m\u001b[0m\u001b[0m\n\u001b[1;32m      5\u001b[0m \u001b[0;32mdef\u001b[0m \u001b[0mgaussian_derivative1d\u001b[0m\u001b[0;34m(\u001b[0m\u001b[0mwindow_size\u001b[0m\u001b[0;34m=\u001b[0m\u001b[0;36m5\u001b[0m\u001b[0;34m,\u001b[0m \u001b[0msigma\u001b[0m\u001b[0;34m=\u001b[0m\u001b[0;36m1\u001b[0m\u001b[0;34m)\u001b[0m\u001b[0;34m:\u001b[0m\u001b[0;34m\u001b[0m\u001b[0m\n",
      "\u001b[0;31mImportError\u001b[0m: No module named 'non_max_supression'"
     ]
    }
   ],
   "source": [
    "# load your solutions\n",
    "from p2 import *"
   ]
  },
  {
   "cell_type": "markdown",
   "metadata": {},
   "source": [
    "## Question 1\n",
    "The Gaussian blur is a type of image-blurring filter that makes use of a Gaussian function. By blurring images first, we can lessen impact of noises when we detect edges.\n",
    "Here is the 1-D Gaussian function:\n",
    "\\begin{equation*}\n",
    "G(x) = \\frac{1}{\\sqrt{2\\pi\\sigma^2}}e^{-\\frac{x^2}{2\\sigma^2}}\n",
    "\\end{equation*}\n",
    "\n",
    "However, in this question, you need to apply the Gaussian blur and first order edge detection operater in just one step. And this can be done by simply using a first order Gaussian derivative filter kernel. Please figure out how to get a 1-D first order Gaussian derivative filter kernel from a 1-D Gaussian function.\n",
    "\n",
    "\n",
    "Write a python function to generate a 1-D first order Gaussian derivative filter kernel.\n",
    "```python\n",
    "def gaussian_derivative1d(window_size=5, sigma=1):\n",
    "    # TODO\n",
    "    return f\n",
    "```\n",
    "\n",
    "Input:\n",
    "* window_size(scalar): Guassian filter window_size. 5 is the default.\n",
    "* sigma(scalar): Guassian deviation. 1 is the default.\n",
    "\n",
    "Output:\n",
    "* return a 1D numpy array f, of size (window_size,).\n",
    "\n",
    "Scores: 2"
   ]
  },
  {
   "cell_type": "code",
   "execution_count": null,
   "metadata": {},
   "outputs": [],
   "source": [
    "### Verify\n",
    "from scipy.ndimage import gaussian_filter1d\n",
    "test_input = np.random.rand(50)\n",
    "d_gauss1d = gaussian_derivative1d(window_size=31, sigma=1)\n",
    "scipy_result = gaussian_filter1d(test_input, 1, order=1)\n",
    "test_result = filters.convolve1d(test_input, d_gauss1d)\n",
    "assert np.allclose(test_result, -1*scipy_result, atol=1e-05) or np.allclose(test_result, scipy_result, atol=1e-05)\n"
   ]
  },
  {
   "cell_type": "markdown",
   "metadata": {},
   "source": [
    "## Question 2\n",
    "In this question, you need to implement a 2-D Gaussian blur kernel. Since we only give you 1-D Gaussian function, you have to come up with the 2-D Gaussian function and then make it into a 2-D Gaussian blur filter kernel.\n",
    "\n",
    "Write a python function to generate a 2-D gaussian blur filter kernel.\n",
    "```python\n",
    "def gaussian_filter2d(window_shape=(3, 3), sigma=0.5):\n",
    "    # TODO\n",
    "    return f\n",
    "```\n",
    "\n",
    "Input:\n",
    "* window_shape(tuple): The shape of Gaussian filter, which is (3, 3) by default.\n",
    "* sigma(scalar): A scalar which represents the variance for both x and y.\n",
    "\n",
    "Output:\n",
    "* return a 2D numpy array f, of size window_shape.\n",
    "\n",
    "Scores: 2"
   ]
  },
  {
   "cell_type": "code",
   "execution_count": null,
   "metadata": {},
   "outputs": [],
   "source": [
    "### Verify\n",
    "from scipy.ndimage import gaussian_filter\n",
    "test_input = np.random.rand(5,5)\n",
    "gauss2d = gaussian_filter2d(window_shape=(11, 11), sigma=0.5)\n",
    "scipy_result = gaussian_filter(test_input, 0.5, order=0)\n",
    "test_result = signal.convolve2d(test_input, gauss2d, mode=\"same\", boundary=\"symm\")\n",
    "assert np.allclose(test_result, -1*scipy_result, atol=1e-05) or np.allclose(test_result, scipy_result, atol=1e-05)\n"
   ]
  },
  {
   "cell_type": "markdown",
   "metadata": {},
   "source": [
    "## Question 3\n",
    "Write a python function to calculate Harris corner. Your function should find at least 100 corners in both provided images, \"bikes1.png\" and \"bikes2.png\", to get full points, so you may need to tune parameters in your function for those two images. (You can add additional arguments for convenience because different images may need different parameters.)\n",
    "\n",
    "```python\n",
    "def harris_corner(image):\n",
    "    # TODO\n",
    "    return pixel_coords\n",
    "```\n",
    "\n",
    "Input:\n",
    "* image (numpy.ndarray): The input image to detect features on. Note: this is NOT the image name or image path.\n",
    "\n",
    "Output:\n",
    "* return a list of tuples of pixel_coords. A list of (row,col) tuples of detected feature locations in the image.\n",
    "\n",
    "Scores: 6"
   ]
  },
  {
   "cell_type": "code",
   "execution_count": null,
   "metadata": {},
   "outputs": [],
   "source": [
    "### Verify\n",
    "img = cv2.imread('bikes1.png', 0)\n",
    "feature_list = harris_corner(img)\n",
    "print(len(feature_list))\n",
    "dis_img = cv2.cvtColor(img, cv2.COLOR_GRAY2BGR)\n",
    "for i in range(len(feature_list)):\n",
    "    cv2.circle(dis_img, (feature_list[i][1], feature_list[i][0]),\n",
    "               10, (255,0,0), 2)\n",
    "plt.imshow(dis_img)\n",
    "plt.rcParams['figure.dpi'] = 150\n",
    "plt.axis('off')\n",
    "plt.show()"
   ]
  },
  {
   "cell_type": "markdown",
   "metadata": {},
   "source": [
    "## Question 4 (Required for Graduate Students Only)\n",
    "Write a python function to calculate SSDs to find mutual marriage matching features. There should be at least 30 matching to get full points.\n",
    "\n",
    "```python\n",
    "def match_features(feature_coords_1, feature_coords_2, image_1, image_2):\n",
    "    # TODO\n",
    "    return matches\n",
    "```\n",
    "\n",
    "Input:\n",
    "* feature_coords_1 (list of tuples): list of (row,col) tuple feature coordinates from image_1\n",
    "* feature_coords_2 (list of tuples): list of (row,col) tuple feature coordinates from image_2\n",
    "* image_1 (numpy.ndarray): The input image corresponding to feature_coords_1\n",
    "* image_2 (numpy.ndarray): The input image corresponding to feature_coords_2\n",
    "\n",
    "Output:\n",
    "* return a list of tuples, matches. list of index pairs of possible matches. For example, if the 4-th feature in feature_coords_1 and the 0-th feature in feature_coords_2 are determined to be matches, the list should contain (4,0).\n",
    "\n",
    "Scores: 4"
   ]
  },
  {
   "cell_type": "code",
   "execution_count": null,
   "metadata": {},
   "outputs": [],
   "source": [
    "### Verify\n",
    "img1 = cv2.imread('bikes1.png', 0)\n",
    "img2 = cv2.imread('bikes2.png', 0)\n",
    "feature_list1 = harris_corner(img1)\n",
    "feature_list2 = harris_corner(img2)\n",
    "matches = match_features(feature_list1,feature_list2,img1,img2)\n",
    "print(len(matches))"
   ]
  },
  {
   "cell_type": "markdown",
   "metadata": {},
   "source": [
    "## Question 5 (Required for Graduate Students Only)\n",
    "Write a python function to display your successfully matching features.\n",
    "```python\n",
    "def display_matches(feature_coords_1, feature_coords_2, matches, image_1, image_2):\n",
    "    # TODO\n",
    "    return concat_image\n",
    "```\n",
    "\n",
    "Input:\n",
    "* feature_coords_1 (list of tuples): list of (row,col) tuple feature coordinates from image_1\n",
    "* feature_coords_2 (list of tuples): list of (row,col) tuple feature coordinates from image_2\n",
    "* matches (list of tuples): list of (feature_coords_1 index, feature_coords_2 index) tuple\n",
    "* image_1 (numpy.ndarray): The input image corresponding to feature_coords_1\n",
    "* image_2 (numpy.ndarray): The input image corresponding to feature_coords_2\n",
    "\n",
    "Output:\n",
    "* return a numpy array concat_image, of size (H,2*W,3), type np.uint8 and range 0~255. \n",
    "    This is the result image that two images are placed side by side horizontally. And \n",
    "    we display successfully matching feature positions and draw lines to link them.\n",
    "\n",
    "Scores: 2"
   ]
  },
  {
   "cell_type": "code",
   "execution_count": null,
   "metadata": {},
   "outputs": [],
   "source": [
    "### ### Verify\n",
    "concat_image = display_matches(feature_list1, feature_list2, matches, img1, img2)\n",
    "plt.imshow(concat_image)\n",
    "plt.axis('off')\n",
    "plt.show()"
   ]
  }
 ],
 "metadata": {
  "kernelspec": {
   "display_name": "Python 3",
   "language": "python",
   "name": "python3"
  },
  "language_info": {
   "codemirror_mode": {
    "name": "ipython",
    "version": 3
   },
   "file_extension": ".py",
   "mimetype": "text/x-python",
   "name": "python",
   "nbconvert_exporter": "python",
   "pygments_lexer": "ipython3",
   "version": "3.5.2"
  }
 },
 "nbformat": 4,
 "nbformat_minor": 2
}
